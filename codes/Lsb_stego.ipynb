{
  "nbformat": 4,
  "nbformat_minor": 0,
  "metadata": {
    "colab": {
      "name": "Lsb stego.ipynb",
      "provenance": [],
      "collapsed_sections": []
    },
    "kernelspec": {
      "name": "python3",
      "display_name": "Python 3"
    },
    "language_info": {
      "name": "python"
    }
  },
  "cells": [
    {
      "cell_type": "code",
      "execution_count": null,
      "metadata": {
        "id": "49kDm2Asig4c"
      },
      "outputs": [],
      "source": [
        "import numpy as np\n",
        "from PIL import Image"
      ]
    },
    {
      "cell_type": "code",
      "source": [
        "def Encode(src, message, dest): #encode secret message into image\n",
        "\n",
        "    img = Image.open(src, 'r')\n",
        "    width, height = img.size\n",
        "    array = np.array(list(img.getdata()))\n",
        "\n",
        "    if img.mode == 'RGB':\n",
        "        n = 3 #no. of channels\n",
        "    elif img.mode == 'RGBA':\n",
        "        n = 4\n",
        "    total_pixels = array.size//n\n",
        "\n",
        "    b_message = ''.join([format(ord(i), \"08b\") for i in message]) #secret message\n",
        "    req_pixels = len(b_message)\n",
        "\n",
        "    if req_pixels > total_pixels: #checks if file is large enough for steganography\n",
        "        print(\"ERROR: Need larger file size\")\n",
        "\n",
        "    else:\n",
        "        index=0\n",
        "        for p in range(total_pixels):\n",
        "            for q in range(0, 3):\n",
        "                if index < req_pixels:\n",
        "                    array[p][q] = int(bin(array[p][q])[2:9] + b_message[index], 2) #hiding message bits in last bit of image pixel\n",
        "                    index += 1\n",
        "\n",
        "        array=array.reshape(height, width, n)\n",
        "        enc_img = Image.fromarray(array.astype('uint8'), img.mode)\n",
        "        enc_img.save(dest) #save image\n",
        "        print(\"Image Encoded Successfully\")"
      ],
      "metadata": {
        "id": "w-B9T7bXika0"
      },
      "execution_count": null,
      "outputs": []
    },
    {
      "cell_type": "code",
      "source": [
        "def Decode(src): #decode secret message from image\n",
        "\n",
        "    img = Image.open(src, 'r')\n",
        "    array = np.array(list(img.getdata()))\n",
        "\n",
        "    if img.mode == 'RGB':\n",
        "        n = 3 #no. of channels\n",
        "    elif img.mode == 'RGBA':\n",
        "        n = 4\n",
        "    total_pixels = array.size//n\n",
        "\n",
        "    hidden_bits = \"\"\n",
        "    for p in range(total_pixels):\n",
        "        for q in range(0, 3):\n",
        "            hidden_bits += (bin(array[p][q])[2:][-1]) #getting last bit of each image pixel\n",
        "\n",
        "    hidden_bits = [hidden_bits[i:i+8] for i in range(0, len(hidden_bits), 8)]\n",
        "\n",
        "    message = \"\"\n",
        "    for i in range(len(hidden_bits)):\n",
        "        message += chr(int(hidden_bits[i], 2))\n",
        "    with open(\"Output.txt\", \"w\") as text_file: #putting message in output txt file\n",
        "      text_file.write(\"Message: {0}\".format(message))"
      ],
      "metadata": {
        "id": "otUxc1PQikOe"
      },
      "execution_count": null,
      "outputs": []
    },
    {
      "cell_type": "code",
      "source": [
        "def Stego(): #function containing encode and decode\n",
        "    print(\"1: Encode\")\n",
        "    print(\"2: Decode\")\n",
        "\n",
        "    func = input()\n",
        "\n",
        "    if func == '1':\n",
        "        print(\"Enter Source Image Path\")\n",
        "        src = input()\n",
        "        print(\"Enter Message to Hide\")\n",
        "        message = input()\n",
        "        print(\"Enter Destination Image Path\")\n",
        "        dest = input()\n",
        "        print(\"Encoding...\")\n",
        "        Encode(src, message, dest)\n",
        "\n",
        "    elif func == '2':\n",
        "        print(\"Enter Source Image Path\")\n",
        "        src = input()\n",
        "        print(\"Decoding...\")\n",
        "        Decode(src)\n",
        "\n",
        "    else:\n",
        "        print(\"ERROR: Invalid option chosen\")"
      ],
      "metadata": {
        "id": "ftRqJu1qit2Z"
      },
      "execution_count": null,
      "outputs": []
    },
    {
      "cell_type": "code",
      "source": [
        "Stego()"
      ],
      "metadata": {
        "colab": {
          "base_uri": "https://localhost:8080/"
        },
        "id": "AC1hJ7uBityO",
        "outputId": "19e784d8-506e-4f68-ea24-d2ee988c3d90"
      },
      "execution_count": null,
      "outputs": [
        {
          "output_type": "stream",
          "name": "stdout",
          "text": [
            "1: Encode\n",
            "2: Decode\n",
            "1\n",
            "Enter Source Image Path\n",
            "image.png\n",
            "Enter Message to Hide\n",
            "trying out stego\n",
            "Enter Destination Image Path\n",
            "secret_image.png\n",
            "Encoding...\n",
            "Image Encoded Successfully\n"
          ]
        }
      ]
    },
    {
      "cell_type": "code",
      "source": [
        "Stego()"
      ],
      "metadata": {
        "colab": {
          "base_uri": "https://localhost:8080/"
        },
        "id": "hVJWmULJitwA",
        "outputId": "a2853d58-1855-4fb4-bf5e-1d57735e69ca"
      },
      "execution_count": null,
      "outputs": [
        {
          "output_type": "stream",
          "name": "stdout",
          "text": [
            "1: Encode\n",
            "2: Decode\n",
            "2\n",
            "Enter Source Image Path\n",
            "secret_image.png\n",
            "Decoding...\n"
          ]
        }
      ]
    },
    {
      "cell_type": "code",
      "source": [
        "Stego()"
      ],
      "metadata": {
        "id": "iOk2iWtUits5",
        "colab": {
          "base_uri": "https://localhost:8080/"
        },
        "outputId": "ffd1157f-fe89-4149-e72a-b80b96f5bc99"
      },
      "execution_count": null,
      "outputs": [
        {
          "output_type": "stream",
          "name": "stdout",
          "text": [
            "1: Encode\n",
            "2: Decode\n",
            "2\n",
            "Enter Source Image Path\n",
            "srimage.png\n",
            "Decoding...\n"
          ]
        }
      ]
    },
    {
      "cell_type": "code",
      "source": [
        ""
      ],
      "metadata": {
        "id": "AaR6ZQ52hBK1"
      },
      "execution_count": null,
      "outputs": []
    }
  ]
}